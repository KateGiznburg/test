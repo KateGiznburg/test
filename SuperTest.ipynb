{
  "id": "/subscriptions/06e34a66-d856-4fa1-9fe9-b924d25d21d7/resourceGroups/kateg-test-rg/providers/Microsoft.Synapse/workspaces/kateginzburg02/Notebooks/SuperTest",
  "name": "SuperTest",
  "type": "Microsoft.Synapse/workspaces/Notebooks",
  "properties": {
    "description": "A sample Notebook",
    "nbformat": 4,
    "nbformat_minor": 2,
    "sessionProperties": {
      "driverMemory": "28g",
      "driverCores": 4,
      "executorMemory": "28g",
      "executorCores": 4,
      "numExecutors": 1
    },
    "metadata": {
      "language_info": {
        "name": "python"
      },
      "kernelspec": {
        "name": "exampleName",
        "display_name": "exampleDisplayName"
      }
    },
    "cells": [
      {
        "cell_type": "code",
        "metadata": {},
        "source": [
          "def my_function():\n",
          " print(\"Hello from a function\")\n",
          "\n",
          "my_function()"
        ],
        "attachments": {},
        "outputs": [
          {
            "execution_count": 3,
            "output_type": "execute_result",
            "data": {
              "text/plain": "Hello from a function"
            },
            "metadata": {}
          }
        ]
      }
    ]
  }
}