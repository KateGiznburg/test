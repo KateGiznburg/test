{
  "cells": [
    {
      "cell_type": "code",
      "source": [
        "import logging\r\n",
        "logging.getLogger(\"py4j\").setLevel(logging.ERROR)\r\n",
        "\r\n",
        "import pandas as pd\r\n",
        "import seaborn as sns\r\n",
        "from matplotlib import pyplot as plt\r\n",
        "\r\n",
        "from pyspark.version import __version__ as pyspark_version\r\n",
        "\r\n",
        "import mmlspark\r\n",
        "from mmlspark.train import ComputeModelStatistics\r\n",
        "from mmlspark.lightgbm import LightGBMClassifier\r\n",
        "from pyspark.ml.feature import VectorAssembler\r\n",
        "\r\n",
        "pd.set_option('display.max_columns', 50)\r\n",
        "\r\n",
        "print(f\"PySpark version: {pyspark_version}\")\r\n",
        "print(f\"MMLSpark version: {mmlspark.core.__spark_package_version__}\")"
      ],
      "outputs": [
        {
          "output_type": "display_data",
          "data": {
            "application/vnd.livy.statement-meta+json": {
              "spark_pool": "kateginzburg02",
              "session_id": 1,
              "statement_id": 1,
              "state": "finished",
              "livy_statement_state": "available",
              "queued_time": "2022-06-27T12:44:02.0825084Z",
              "session_start_time": "2022-06-27T12:44:02.1244164Z",
              "execution_start_time": "2022-06-27T12:48:22.8960774Z",
              "execution_finish_time": "2022-06-27T12:48:35.590708Z"
            },
            "text/plain": "StatementMeta(kateginzburg02, 1, 1, Finished, Available)"
          },
          "metadata": {}
        },
        {
          "output_type": "stream",
          "name": "stdout",
          "text": [
            "PySpark version: 3.1.2.dev0\nMMLSpark version: 1.0.0-rc3-179-327be83c-SNAPSHOT\n"
          ]
        }
      ],
      "execution_count": 1,
      "metadata": {}
    }
  ],
  "metadata": {
    "language_info": {
      "name": "python"
    },
    "kernelspec": {
      "name": "synapse_pyspark",
      "language": "Python",
      "display_name": "Synapse PySpark"
    },
    "kernel_info": {
      "name": "synapse_pyspark"
    },
    "save_output": true,
    "synapse_widget": {
      "version": "0.1",
      "state": {}
    }
  },
  "nbformat": 4,
  "nbformat_minor": 2
}